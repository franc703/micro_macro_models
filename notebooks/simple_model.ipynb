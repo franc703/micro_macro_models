{
 "cells": [
  {
   "cell_type": "code",
   "execution_count": 1,
   "metadata": {},
   "outputs": [],
   "source": [
    "from scipy import optimize\n",
    "import numpy as np\n",
    "import matplotlib.pyplot as plt"
   ]
  },
  {
   "cell_type": "code",
   "execution_count": 2,
   "metadata": {},
   "outputs": [],
   "source": [
    "def ces_model(wage1, wage2, elasticity, a, b):\n",
    "    # Define the CES production function\n",
    "    def Y(L, w, K, rho):\n",
    "        return (K**rho + (L*w)**rho)**(1/rho) / (K + L)\n",
    "\n",
    "    # Define the return to capital\n",
    "    def r(L, w, K, rho, Y):\n",
    "        return (Y - w * L) / K\n",
    "\n",
    "    # Define the system of equations\n",
    "    def equations(vars):\n",
    "        L1, L2, P2 = vars\n",
    "        K = a - b * (wage1 + wage2) / 2  # Endogenous capital supply\n",
    "        eq1 = Y(L1, wage1, K, elasticity) - (L1 + K)\n",
    "        eq2 = Y(L2, wage2, K, elasticity) - P2 * (L2 + K)\n",
    "        eq3 = r(L1, wage1, K, elasticity, (L1 + K)) - r(L2, wage2, K, elasticity, P2 * (L2 + K))\n",
    "        return [eq1, eq2, eq3]\n",
    "\n",
    "    # Solve the system of equations\n",
    "    solution = optimize.root(equations, (1, 1, 1))\n",
    "    L1, L2, P2 = solution.x\n",
    "    K = a - b * (wage1 + wage2) / 2\n",
    "    return L1, L2, 1, P2, K  # P1 is normalized to 1\n",
    "\n",
    "def plot_results(wage1, wage2, elasticity, a, b):\n",
    "    # Define wage range for x-axis\n",
    "    wage_range = np.linspace(wage1, wage2, 100)\n",
    "\n",
    "    # Initialize arrays to store results\n",
    "    labor_demand = np.zeros(len(wage_range))\n",
    "    prices = np.zeros(len(wage_range))\n",
    "    capital_demand = np.zeros(len(wage_range))\n",
    "    total_output = np.zeros(len(wage_range))\n",
    "\n",
    "    # Populate the arrays by substituting wages\n",
    "    for i, wage in enumerate(wage_range):\n",
    "        L1, L2, P1, P2, K = ces_model(wage, wage2, elasticity, a, b)\n",
    "        labor_demand[i] = L1\n",
    "        prices[i] = P1\n",
    "        capital_demand[i] = K\n",
    "        total_output[i] = L1 * P1\n",
    "\n",
    "    # Plot the arrays\n",
    "    plt.figure(figsize=(12, 8))\n",
    "    plt.plot(wage_range, labor_demand, label=\"Labor Demand\")\n",
    "    plt.plot(wage_range, prices, label=\"Price\")\n",
    "    plt.plot(wage_range, capital_demand, label=\"Capital Demand\")\n",
    "    plt.plot(wage_range, total_output, label=\"Total Output\")\n",
    "    plt.legend()\n",
    "    plt.show()\n",
    "\n",
    "    return labor_demand, prices, capital_demand, total_output"
   ]
  },
  {
   "cell_type": "code",
   "execution_count": 3,
   "metadata": {},
   "outputs": [
    {
     "name": "stderr",
     "output_type": "stream",
     "text": [
      "/tmp/ipykernel_18172/2350745026.py:4: RuntimeWarning: invalid value encountered in scalar power\n",
      "  return (K**rho + (L*w)**rho)**(1/rho) / (K + L)\n"
     ]
    },
    {
     "data": {
      "image/png": "[encoded data removed]",
      "text/plain": [
       "<Figure size 1200x800 with 1 Axes>"
      ]
     },
     "metadata": {},
     "output_type": "display_data"
    },
    {
     "data": {
      "text/plain": [
       "(array([1., 1., 1., 1., 1., 1., 1., 1., 1., 1., 1., 1., 1., 1., 1., 1., 1.,\n",
       "        1., 1., 1., 1., 1., 1., 1., 1., 1., 1., 1., 1., 1., 1., 1., 1., 1.,\n",
       "        1., 1., 1., 1., 1., 1., 1., 1., 1., 1., 1., 1., 1., 1., 1., 1., 1.,\n",
       "        1., 1., 1., 1., 1., 1., 1., 1., 1., 1., 1., 1., 1., 1., 1., 1., 1.,\n",
       "        1., 1., 1., 1., 1., 1., 1., 1., 1., 1., 1., 1., 1., 1., 1., 1., 1.,\n",
       "        1., 1., 1., 1., 1., 1., 1., 1., 1., 1., 1., 1., 1., 1., 1.]),\n",
       " array([1., 1., 1., 1., 1., 1., 1., 1., 1., 1., 1., 1., 1., 1., 1., 1., 1.,\n",
       "        1., 1., 1., 1., 1., 1., 1., 1., 1., 1., 1., 1., 1., 1., 1., 1., 1.,\n",
       "        1., 1., 1., 1., 1., 1., 1., 1., 1., 1., 1., 1., 1., 1., 1., 1., 1.,\n",
       "        1., 1., 1., 1., 1., 1., 1., 1., 1., 1., 1., 1., 1., 1., 1., 1., 1.,\n",
       "        1., 1., 1., 1., 1., 1., 1., 1., 1., 1., 1., 1., 1., 1., 1., 1., 1.,\n",
       "        1., 1., 1., 1., 1., 1., 1., 1., 1., 1., 1., 1., 1., 1., 1.]),\n",
       " array([14., 14., 14., 14., 14., 14., 14., 14., 14., 14., 14., 14., 14.,\n",
       "        14., 14., 14., 14., 14., 14., 14., 14., 14., 14., 14., 14., 14.,\n",
       "        14., 14., 14., 14., 14., 14., 14., 14., 14., 14., 14., 14., 14.,\n",
       "        14., 14., 14., 14., 14., 14., 14., 14., 14., 14., 14., 14., 14.,\n",
       "        14., 14., 14., 14., 14., 14., 14., 14., 14., 14., 14., 14., 14.,\n",
       "        14., 14., 14., 14., 14., 14., 14., 14., 14., 14., 14., 14., 14.,\n",
       "        14., 14., 14., 14., 14., 14., 14., 14., 14., 14., 14., 14., 14.,\n",
       "        14., 14., 14., 14., 14., 14., 14., 14., 14.]),\n",
       " array([1., 1., 1., 1., 1., 1., 1., 1., 1., 1., 1., 1., 1., 1., 1., 1., 1.,\n",
       "        1., 1., 1., 1., 1., 1., 1., 1., 1., 1., 1., 1., 1., 1., 1., 1., 1.,\n",
       "        1., 1., 1., 1., 1., 1., 1., 1., 1., 1., 1., 1., 1., 1., 1., 1., 1.,\n",
       "        1., 1., 1., 1., 1., 1., 1., 1., 1., 1., 1., 1., 1., 1., 1., 1., 1.,\n",
       "        1., 1., 1., 1., 1., 1., 1., 1., 1., 1., 1., 1., 1., 1., 1., 1., 1.,\n",
       "        1., 1., 1., 1., 1., 1., 1., 1., 1., 1., 1., 1., 1., 1., 1.]))"
      ]
     },
     "execution_count": 3,
     "metadata": {},
     "output_type": "execute_result"
    }
   ],
   "source": [
    "# Usage example\n",
    "wage1 = 1\n",
    "wage2 = 1\n",
    "elasticity = 0.5\n",
    "a = 15  # Choose suitable values for a and b based on your specific context\n",
    "b = 1\n",
    "\n",
    "plot_results(wage1, wage2, elasticity, a, b)"
   ]
  }
 ],
 "metadata": {
  "kernelspec": {
   "display_name": ".venv",
   "language": "python",
   "name": "python3"
  },
  "language_info": {
   "codemirror_mode": {
    "name": "ipython",
    "version": 3
   },
   "file_extension": ".py",
   "mimetype": "text/x-python",
   "name": "python",
   "nbconvert_exporter": "python",
   "pygments_lexer": "ipython3",
   "version": "3.10.8"
  },
  "orig_nbformat": 4
 },
 "nbformat": 4,
 "nbformat_minor": 2
}
